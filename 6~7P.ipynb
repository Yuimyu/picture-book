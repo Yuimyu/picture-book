{
  "nbformat": 4,
  "nbformat_minor": 0,
  "metadata": {
    "colab": {
      "name": "6~7P",
      "provenance": [],
      "mount_file_id": "1bgFMM2wy_9P2lAu_c40DO156_IGzIWxe",
      "authorship_tag": "ABX9TyN/4OK+lGq9JobgqraTw6Yi",
      "include_colab_link": true
    },
    "kernelspec": {
      "name": "python3",
      "display_name": "Python 3"
    },
    "language_info": {
      "name": "python"
    }
  },
  "cells": [
    {
      "cell_type": "markdown",
      "metadata": {
        "id": "view-in-github",
        "colab_type": "text"
      },
      "source": [
        "<a href=\"https://colab.research.google.com/github/Yuimyu/picture-book/blob/main/6~7P.ipynb\" target=\"_parent\"><img src=\"https://colab.research.google.com/assets/colab-badge.svg\" alt=\"Open In Colab\"/></a>"
      ]
    },
    {
      "cell_type": "code",
      "metadata": {
        "colab": {
          "base_uri": "https://localhost:8080/"
        },
        "id": "v8zzPleVgUSY",
        "outputId": "80e00f31-b862-4f44-b097-b430026e2c88"
      },
      "source": [
        "a = 2\n",
        "b = 3\n",
        "\n",
        "print('変数 a に b を代入')\n",
        "\n",
        "a = b\n",
        "\n",
        "print('a=',a,' ,b=',b,sep='')"
      ],
      "execution_count": 3,
      "outputs": [
        {
          "output_type": "stream",
          "name": "stdout",
          "text": [
            "変数 a に b を代入\n",
            "a=3 ,b=3\n"
          ]
        }
      ]
    },
    {
      "cell_type": "code",
      "metadata": {
        "colab": {
          "base_uri": "https://localhost:8080/"
        },
        "id": "qYJ1Lj0Hh8OI",
        "outputId": "8b955f09-3267-4468-ef04-ca8366d1f45d"
      },
      "source": [
        "a = 2; b = 3    #;を使って１行に並べて書くことも可能\n",
        "\n",
        "print('変数 a に b を代入')\n",
        "\n",
        "a = b\n",
        "\n",
        "print('a=',a,' ,b=',b,sep='')"
      ],
      "execution_count": 5,
      "outputs": [
        {
          "output_type": "stream",
          "name": "stdout",
          "text": [
            "変数 a に b を代入\n",
            "a=3 ,b=3\n"
          ]
        }
      ]
    }
  ]
}