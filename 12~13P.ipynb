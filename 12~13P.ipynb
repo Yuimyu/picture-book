{
  "nbformat": 4,
  "nbformat_minor": 0,
  "metadata": {
    "colab": {
      "name": "12~13P",
      "provenance": [],
      "authorship_tag": "ABX9TyO7BIr3rU8ludQsk7rijG1R",
      "include_colab_link": true
    },
    "kernelspec": {
      "name": "python3",
      "display_name": "Python 3"
    },
    "language_info": {
      "name": "python"
    }
  },
  "cells": [
    {
      "cell_type": "markdown",
      "metadata": {
        "id": "view-in-github",
        "colab_type": "text"
      },
      "source": [
        "<a href=\"https://colab.research.google.com/github/Yuimyu/picture-book/blob/main/12~13P.ipynb\" target=\"_parent\"><img src=\"https://colab.research.google.com/assets/colab-badge.svg\" alt=\"Open In Colab\"/></a>"
      ]
    },
    {
      "cell_type": "code",
      "metadata": {
        "colab": {
          "base_uri": "https://localhost:8080/"
        },
        "id": "pQGSsymbVtyk",
        "outputId": "0470b964-ee49-40a3-92ec-2cef829e9456"
      },
      "source": [
        "print('課題' + '終わらんなあ')\n",
        "\n",
        "a = '夏休み'\n",
        "b = '終わるなあ'\n",
        "c = a + b\n",
        "print(c)"
      ],
      "execution_count": 9,
      "outputs": [
        {
          "output_type": "stream",
          "name": "stdout",
          "text": [
            "課題終わらんなあ\n",
            "夏休み終わるなあ\n"
          ]
        }
      ]
    },
    {
      "cell_type": "code",
      "metadata": {
        "colab": {
          "base_uri": "https://localhost:8080/"
        },
        "id": "Vpg124NtZNAa",
        "outputId": "4721ebe2-4255-46b1-ba85-cdbbbee2762d"
      },
      "source": [
        "print('夏' '休み')"
      ],
      "execution_count": 3,
      "outputs": [
        {
          "output_type": "stream",
          "name": "stdout",
          "text": [
            "夏休み\n"
          ]
        }
      ]
    },
    {
      "cell_type": "code",
      "metadata": {
        "colab": {
          "base_uri": "https://localhost:8080/"
        },
        "id": "txpHfInEZ958",
        "outputId": "a8c1c40b-9e87-4839-9311-43e30025b4dd"
      },
      "source": [
        "a = '夏'\n",
        "b = '休み'\n",
        "print(a + b)"
      ],
      "execution_count": 7,
      "outputs": [
        {
          "output_type": "stream",
          "name": "stdout",
          "text": [
            "夏休み\n"
          ]
        }
      ]
    },
    {
      "cell_type": "code",
      "metadata": {
        "colab": {
          "base_uri": "https://localhost:8080/"
        },
        "id": "ZTbIw5MsaZQA",
        "outputId": "e39c0ff0-044e-4fa3-9a76-25c65284afe2"
      },
      "source": [
        "a = 'Hey!'\n",
        "b = a * 3\n",
        "print(b)"
      ],
      "execution_count": 10,
      "outputs": [
        {
          "output_type": "stream",
          "name": "stdout",
          "text": [
            "Hey!Hey!Hey!\n"
          ]
        }
      ]
    },
    {
      "cell_type": "code",
      "metadata": {
        "colab": {
          "base_uri": "https://localhost:8080/"
        },
        "id": "oWX25iY0dcD5",
        "outputId": "3305dcdb-f9ae-47f8-fb4a-b5769808c4cb"
      },
      "source": [
        "a = 'package'\n",
        "print(a[2])\n",
        "print(a[-2])"
      ],
      "execution_count": 11,
      "outputs": [
        {
          "output_type": "stream",
          "name": "stdout",
          "text": [
            "c\n",
            "g\n"
          ]
        }
      ]
    }
  ]
}