{
  "nbformat": 4,
  "nbformat_minor": 0,
  "metadata": {
    "colab": {
      "name": "8~9P",
      "provenance": [],
      "mount_file_id": "1yvviIwMg8DbzpDj3qU740wPxwrExKc23",
      "authorship_tag": "ABX9TyMJmT/Ke4v2wudsbXKGgaln",
      "include_colab_link": true
    },
    "kernelspec": {
      "name": "python3",
      "display_name": "Python 3"
    },
    "language_info": {
      "name": "python"
    }
  },
  "cells": [
    {
      "cell_type": "markdown",
      "metadata": {
        "id": "view-in-github",
        "colab_type": "text"
      },
      "source": [
        "<a href=\"https://colab.research.google.com/github/Yuimyu/picture-book/blob/main/8~9P.ipynb\" target=\"_parent\"><img src=\"https://colab.research.google.com/assets/colab-badge.svg\" alt=\"Open In Colab\"/></a>"
      ]
    },
    {
      "cell_type": "code",
      "metadata": {
        "colab": {
          "base_uri": "https://localhost:8080/"
        },
        "id": "seWRlo3Eekhr",
        "outputId": "cfeb4761-f9dd-4217-baaf-f95da9753ce0"
      },
      "source": [
        "a = 2\n",
        "print(a)"
      ],
      "execution_count": 1,
      "outputs": [
        {
          "output_type": "stream",
          "name": "stdout",
          "text": [
            "2\n"
          ]
        }
      ]
    },
    {
      "cell_type": "code",
      "metadata": {
        "colab": {
          "base_uri": "https://localhost:8080/"
        },
        "id": "ymfNR3wqfv8N",
        "outputId": "2476c181-ed12-46ed-8367-97353077512b"
      },
      "source": [
        "a = 1\n",
        "print(type(a))"
      ],
      "execution_count": 2,
      "outputs": [
        {
          "output_type": "stream",
          "name": "stdout",
          "text": [
            "<class 'int'>\n"
          ]
        }
      ]
    },
    {
      "cell_type": "code",
      "metadata": {
        "colab": {
          "base_uri": "https://localhost:8080/"
        },
        "id": "oBpNwX3Yf7dW",
        "outputId": "0118601a-5e61-43ce-cdeb-d18adc0be083"
      },
      "source": [
        "a = 100000000000\n",
        "print(type(a))"
      ],
      "execution_count": 3,
      "outputs": [
        {
          "output_type": "stream",
          "name": "stdout",
          "text": [
            "<class 'int'>\n"
          ]
        }
      ]
    },
    {
      "cell_type": "code",
      "metadata": {
        "colab": {
          "base_uri": "https://localhost:8080/"
        },
        "id": "w68CZIZ0gdtO",
        "outputId": "05f828d1-ac64-4dab-cf9b-2b443a620d5f"
      },
      "source": [
        "a = 1.23\n",
        "print(type(a))"
      ],
      "execution_count": 4,
      "outputs": [
        {
          "output_type": "stream",
          "name": "stdout",
          "text": [
            "<class 'float'>\n"
          ]
        }
      ]
    },
    {
      "cell_type": "code",
      "metadata": {
        "colab": {
          "base_uri": "https://localhost:8080/"
        },
        "id": "nPkVB2VGgmsp",
        "outputId": "6ee401e0-c2f4-4f4b-f46b-89750fc2438e"
      },
      "source": [
        "a = 'Hello World!'\n",
        "print(type(a))"
      ],
      "execution_count": 5,
      "outputs": [
        {
          "output_type": "stream",
          "name": "stdout",
          "text": [
            "<class 'str'>\n"
          ]
        }
      ]
    },
    {
      "cell_type": "code",
      "metadata": {
        "colab": {
          "base_uri": "https://localhost:8080/"
        },
        "id": "GAqFDqZPg1ca",
        "outputId": "b93ee0a9-6af9-4229-b477-40b7baf4c832"
      },
      "source": [
        "a = True\n",
        "print(type(a))"
      ],
      "execution_count": 6,
      "outputs": [
        {
          "output_type": "stream",
          "name": "stdout",
          "text": [
            "<class 'bool'>\n"
          ]
        }
      ]
    },
    {
      "cell_type": "code",
      "metadata": {
        "colab": {
          "base_uri": "https://localhost:8080/"
        },
        "id": "Z8b2I8UUg77O",
        "outputId": "f8d87e4d-74be-451e-eaee-073a3f480672"
      },
      "source": [
        "a = [1,2,3]\n",
        "print(type(a))"
      ],
      "execution_count": 7,
      "outputs": [
        {
          "output_type": "stream",
          "name": "stdout",
          "text": [
            "<class 'list'>\n"
          ]
        }
      ]
    },
    {
      "cell_type": "code",
      "metadata": {
        "colab": {
          "base_uri": "https://localhost:8080/"
        },
        "id": "_WVEGheAhD9J",
        "outputId": "7f646231-4e16-46f3-d68a-67ba0f547480"
      },
      "source": [
        "a = (1,2,3)\n",
        "print(type(a))"
      ],
      "execution_count": 8,
      "outputs": [
        {
          "output_type": "stream",
          "name": "stdout",
          "text": [
            "<class 'tuple'>\n"
          ]
        }
      ]
    }
  ]
}