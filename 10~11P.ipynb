{
  "nbformat": 4,
  "nbformat_minor": 0,
  "metadata": {
    "colab": {
      "name": "10~11P",
      "provenance": [],
      "mount_file_id": "1TK_zVktYqQ3sTcJysQFP_Gv76xVOaPxt",
      "authorship_tag": "ABX9TyPiFzQHUkuX0K5eaVS7BCpd",
      "include_colab_link": true
    },
    "kernelspec": {
      "name": "python3",
      "display_name": "Python 3"
    },
    "language_info": {
      "name": "python"
    }
  },
  "cells": [
    {
      "cell_type": "markdown",
      "metadata": {
        "id": "view-in-github",
        "colab_type": "text"
      },
      "source": [
        "<a href=\"https://colab.research.google.com/github/Yuimyu/picture-book/blob/main/10~11P.ipynb\" target=\"_parent\"><img src=\"https://colab.research.google.com/assets/colab-badge.svg\" alt=\"Open In Colab\"/></a>"
      ]
    },
    {
      "cell_type": "code",
      "metadata": {
        "colab": {
          "base_uri": "https://localhost:8080/"
        },
        "id": "-Hc-w_Q2FggF",
        "outputId": "150bd413-8a6f-4d44-d6a3-06c7d9cebeb2"
      },
      "source": [
        "a = 'Hello'\n",
        "b = \"Ciao\"\n",
        "\n",
        "print(a,b)"
      ],
      "execution_count": 2,
      "outputs": [
        {
          "output_type": "stream",
          "name": "stdout",
          "text": [
            "Hello Ciao\n"
          ]
        }
      ]
    },
    {
      "cell_type": "code",
      "metadata": {
        "colab": {
          "base_uri": "https://localhost:8080/"
        },
        "id": "12vgKk_7GHN5",
        "outputId": "8af801d4-923c-4dfe-df41-c636b4a6c0f8"
      },
      "source": [
        "a = 'ようこそ\"Python\"の世界へ'\n",
        "b = \"名前は'ゆい'です\"\n",
        "\n",
        "print(a)\n",
        "print(b)"
      ],
      "execution_count": 4,
      "outputs": [
        {
          "output_type": "stream",
          "name": "stdout",
          "text": [
            "ようこそ\"Python\"の世界へ\n",
            "名前は'ゆい'です\n"
          ]
        }
      ]
    },
    {
      "cell_type": "code",
      "metadata": {
        "colab": {
          "base_uri": "https://localhost:8080/"
        },
        "id": "G_3Zx0SnG50I",
        "outputId": "a877a88e-450d-4bc9-8a65-1f7742c3d76f"
      },
      "source": [
        "print('ようこそ！\\n\\'Pythonの世界\\'へ')"
      ],
      "execution_count": 5,
      "outputs": [
        {
          "output_type": "stream",
          "name": "stdout",
          "text": [
            "ようこそ！\n",
            "'Pythonの世界'へ\n"
          ]
        }
      ]
    },
    {
      "cell_type": "code",
      "metadata": {
        "colab": {
          "base_uri": "https://localhost:8080/"
        },
        "id": "z3NZu8W3Hcp7",
        "outputId": "38ce2b79-0b22-4e50-c68e-f0d6b38644b8"
      },
      "source": [
        "a = \"\"\"Hello\n",
        "Ciao\n",
        "Hola\"\"\"\n",
        "print(a)"
      ],
      "execution_count": 11,
      "outputs": [
        {
          "output_type": "stream",
          "name": "stdout",
          "text": [
            "Hello\n",
            "Ciao\n",
            "Hola\n"
          ]
        }
      ]
    }
  ]
}