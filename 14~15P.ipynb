{
  "nbformat": 4,
  "nbformat_minor": 0,
  "metadata": {
    "colab": {
      "name": "14~15P",
      "provenance": [],
      "mount_file_id": "1SnnChJaZDro9yYxP9k4or3JN0l_L4O1f",
      "authorship_tag": "ABX9TyOhvU29LRWlWHyQ+GiqKS1A",
      "include_colab_link": true
    },
    "kernelspec": {
      "name": "python3",
      "display_name": "Python 3"
    },
    "language_info": {
      "name": "python"
    }
  },
  "cells": [
    {
      "cell_type": "markdown",
      "metadata": {
        "id": "view-in-github",
        "colab_type": "text"
      },
      "source": [
        "<a href=\"https://colab.research.google.com/github/Yuimyu/picture-book/blob/main/14~15P.ipynb\" target=\"_parent\"><img src=\"https://colab.research.google.com/assets/colab-badge.svg\" alt=\"Open In Colab\"/></a>"
      ]
    },
    {
      "cell_type": "code",
      "metadata": {
        "colab": {
          "base_uri": "https://localhost:8080/"
        },
        "id": "GiU9pHGdCp3o",
        "outputId": "937b5d2d-fece-4807-c98b-6211ed6f3de0"
      },
      "source": [
        "print('3')"
      ],
      "execution_count": 1,
      "outputs": [
        {
          "output_type": "stream",
          "name": "stdout",
          "text": [
            "3\n"
          ]
        }
      ]
    },
    {
      "cell_type": "code",
      "metadata": {
        "colab": {
          "base_uri": "https://localhost:8080/"
        },
        "id": "01bgH1PbDVLo",
        "outputId": "cb34553e-a40d-4b08-f23d-0a5eea03103e"
      },
      "source": [
        "print('%d' % 3)\n",
        "\n",
        "a = 3\n",
        "print('%d' % a)"
      ],
      "execution_count": 3,
      "outputs": [
        {
          "output_type": "stream",
          "name": "stdout",
          "text": [
            "3\n",
            "3\n"
          ]
        }
      ]
    },
    {
      "cell_type": "code",
      "metadata": {
        "colab": {
          "base_uri": "https://localhost:8080/"
        },
        "id": "FTq1FjYREBl8",
        "outputId": "47b6efbd-a533-47d3-e5ff-ec71bf731280"
      },
      "source": [
        "print('%d は %d より大きい' %(3,2))"
      ],
      "execution_count": 4,
      "outputs": [
        {
          "output_type": "stream",
          "name": "stdout",
          "text": [
            "3 は 2 より大きい\n"
          ]
        }
      ]
    },
    {
      "cell_type": "code",
      "metadata": {
        "colab": {
          "base_uri": "https://localhost:8080/"
        },
        "id": "DJbXjdRWEY_l",
        "outputId": "e3004e51-85fa-497b-e44c-29e52608a23a"
      },
      "source": [
        "print('%d-%dは %d です。' % (3,2,3-2))"
      ],
      "execution_count": 7,
      "outputs": [
        {
          "output_type": "stream",
          "name": "stdout",
          "text": [
            "3-2は 1 です。\n"
          ]
        }
      ]
    },
    {
      "cell_type": "code",
      "metadata": {
        "colab": {
          "base_uri": "https://localhost:8080/"
        },
        "id": "GwwuUpWrE5hh",
        "outputId": "610d5e76-5251-4b4b-9150-45da59393488"
      },
      "source": [
        "print('%4d' % 25)\n",
        "\n",
        "print('%-4d' % 25)\n",
        "\n",
        "print('%04d' % 25)\n",
        "\n",
        "print('%.3f' % 3.14)"
      ],
      "execution_count": 8,
      "outputs": [
        {
          "output_type": "stream",
          "name": "stdout",
          "text": [
            "  25\n",
            "25  \n",
            "0025\n",
            "3.140\n"
          ]
        }
      ]
    }
  ]
}